{
 "cells": [
  {
   "cell_type": "code",
   "execution_count": 203,
   "metadata": {},
   "outputs": [],
   "source": [
    "import pandas as pd"
   ]
  },
  {
   "cell_type": "code",
   "execution_count": 204,
   "metadata": {},
   "outputs": [
    {
     "data": {
      "text/html": [
       "<div>\n",
       "<style scoped>\n",
       "    .dataframe tbody tr th:only-of-type {\n",
       "        vertical-align: middle;\n",
       "    }\n",
       "\n",
       "    .dataframe tbody tr th {\n",
       "        vertical-align: top;\n",
       "    }\n",
       "\n",
       "    .dataframe thead th {\n",
       "        text-align: right;\n",
       "    }\n",
       "</style>\n",
       "<table border=\"1\" class=\"dataframe\">\n",
       "  <thead>\n",
       "    <tr style=\"text-align: right;\">\n",
       "      <th></th>\n",
       "      <th>CustomerID</th>\n",
       "      <th>FirstName</th>\n",
       "      <th>LastName</th>\n",
       "      <th>City</th>\n",
       "      <th>State</th>\n",
       "    </tr>\n",
       "  </thead>\n",
       "  <tbody>\n",
       "    <tr>\n",
       "      <th>0</th>\n",
       "      <td>6192</td>\n",
       "      <td>Randi</td>\n",
       "      <td>Piedrahita</td>\n",
       "      <td>Canoga Park</td>\n",
       "      <td>CA</td>\n",
       "    </tr>\n",
       "    <tr>\n",
       "      <th>1</th>\n",
       "      <td>5100595</td>\n",
       "      <td>Christopher</td>\n",
       "      <td>Abraham</td>\n",
       "      <td>Loma Linda</td>\n",
       "      <td>CA</td>\n",
       "    </tr>\n",
       "    <tr>\n",
       "      <th>2</th>\n",
       "      <td>1902451</td>\n",
       "      <td>Elvis</td>\n",
       "      <td>Jauregui</td>\n",
       "      <td>Los Angeles</td>\n",
       "      <td>CA</td>\n",
       "    </tr>\n",
       "    <tr>\n",
       "      <th>3</th>\n",
       "      <td>1906377</td>\n",
       "      <td>Jose</td>\n",
       "      <td>Mota-Sanchez</td>\n",
       "      <td>Downey</td>\n",
       "      <td>CA</td>\n",
       "    </tr>\n",
       "    <tr>\n",
       "      <th>4</th>\n",
       "      <td>1902406</td>\n",
       "      <td>Scott</td>\n",
       "      <td>McCrorie</td>\n",
       "      <td>Long Beach</td>\n",
       "      <td>CA</td>\n",
       "    </tr>\n",
       "  </tbody>\n",
       "</table>\n",
       "</div>"
      ],
      "text/plain": [
       "   CustomerID    FirstName      LastName         City State\n",
       "0        6192        Randi    Piedrahita  Canoga Park    CA\n",
       "1     5100595  Christopher       Abraham   Loma Linda    CA\n",
       "2     1902451        Elvis      Jauregui  Los Angeles    CA\n",
       "3     1906377         Jose  Mota-Sanchez       Downey    CA\n",
       "4     1902406      Scott        McCrorie   Long Beach    CA"
      ]
     },
     "execution_count": 204,
     "metadata": {},
     "output_type": "execute_result"
    }
   ],
   "source": [
    "customers = pd.read_csv('customers.txt',sep=',')\n",
    "customers.head()"
   ]
  },
  {
   "cell_type": "code",
   "execution_count": 205,
   "metadata": {},
   "outputs": [
    {
     "data": {
      "text/html": [
       "<div>\n",
       "<style scoped>\n",
       "    .dataframe tbody tr th:only-of-type {\n",
       "        vertical-align: middle;\n",
       "    }\n",
       "\n",
       "    .dataframe tbody tr th {\n",
       "        vertical-align: top;\n",
       "    }\n",
       "\n",
       "    .dataframe thead th {\n",
       "        text-align: right;\n",
       "    }\n",
       "</style>\n",
       "<table border=\"1\" class=\"dataframe\">\n",
       "  <thead>\n",
       "    <tr style=\"text-align: right;\">\n",
       "      <th></th>\n",
       "      <th>CustomerID</th>\n",
       "      <th>OrderID</th>\n",
       "      <th>Date</th>\n",
       "      <th>OrderTotal</th>\n",
       "      <th>ProductName</th>\n",
       "      <th>Price</th>\n",
       "    </tr>\n",
       "  </thead>\n",
       "  <tbody>\n",
       "    <tr>\n",
       "      <th>0</th>\n",
       "      <td>8091</td>\n",
       "      <td>7742581</td>\n",
       "      <td>2021-07-26 14:40:10.783</td>\n",
       "      <td>95.0</td>\n",
       "      <td>Z03</td>\n",
       "      <td>90.0</td>\n",
       "    </tr>\n",
       "    <tr>\n",
       "      <th>1</th>\n",
       "      <td>902139</td>\n",
       "      <td>7742778</td>\n",
       "      <td>2021-08-08 05:01:21.120</td>\n",
       "      <td>60.0</td>\n",
       "      <td>0844 A/C</td>\n",
       "      <td>60.0</td>\n",
       "    </tr>\n",
       "    <tr>\n",
       "      <th>2</th>\n",
       "      <td>2300266</td>\n",
       "      <td>7742593</td>\n",
       "      <td>2021-07-27 11:00:16.020</td>\n",
       "      <td>185.0</td>\n",
       "      <td>M07</td>\n",
       "      <td>90.0</td>\n",
       "    </tr>\n",
       "    <tr>\n",
       "      <th>3</th>\n",
       "      <td>2300266</td>\n",
       "      <td>7742593</td>\n",
       "      <td>2021-07-27 11:00:16.020</td>\n",
       "      <td>185.0</td>\n",
       "      <td>M09</td>\n",
       "      <td>90.0</td>\n",
       "    </tr>\n",
       "    <tr>\n",
       "      <th>4</th>\n",
       "      <td>5173013</td>\n",
       "      <td>7742609</td>\n",
       "      <td>2021-07-28 14:26:13.930</td>\n",
       "      <td>165.0</td>\n",
       "      <td>0324</td>\n",
       "      <td>160.0</td>\n",
       "    </tr>\n",
       "  </tbody>\n",
       "</table>\n",
       "</div>"
      ],
      "text/plain": [
       "   CustomerID  OrderID                     Date  OrderTotal ProductName  Price\n",
       "0        8091  7742581  2021-07-26 14:40:10.783        95.0         Z03   90.0\n",
       "1      902139  7742778  2021-08-08 05:01:21.120        60.0    0844 A/C   60.0\n",
       "2     2300266  7742593  2021-07-27 11:00:16.020       185.0         M07   90.0\n",
       "3     2300266  7742593  2021-07-27 11:00:16.020       185.0         M09   90.0\n",
       "4     5173013  7742609  2021-07-28 14:26:13.930       165.0        0324  160.0"
      ]
     },
     "execution_count": 205,
     "metadata": {},
     "output_type": "execute_result"
    }
   ],
   "source": [
    "orders = pd.read_csv('orders.txt',sep=',')\n",
    "orders.head()"
   ]
  },
  {
   "cell_type": "markdown",
   "metadata": {},
   "source": [
    "## Part 1 (Only customers)"
   ]
  },
  {
   "cell_type": "code",
   "execution_count": 206,
   "metadata": {},
   "outputs": [
    {
     "data": {
      "text/plain": [
       "471"
      ]
     },
     "execution_count": 206,
     "metadata": {},
     "output_type": "execute_result"
    }
   ],
   "source": [
    "customers_by_id = customers['CustomerID'].drop_duplicates()\n",
    "customers_by_id.count()"
   ]
  },
  {
   "cell_type": "markdown",
   "metadata": {},
   "source": [
    "There is 471 diferents customers"
   ]
  },
  {
   "cell_type": "code",
   "execution_count": 207,
   "metadata": {},
   "outputs": [
    {
     "data": {
      "text/plain": [
       "0                 CA\n",
       "23                AZ\n",
       "65                NV\n",
       "76                FL\n",
       "95     CA           \n",
       "99                WA\n",
       "108               NH\n",
       "129               ID\n",
       "164               CO\n",
       "203               Ca\n",
       "207               TX\n",
       "242               NM\n",
       "350               OR\n",
       "499               UT\n",
       "565               MA\n",
       "578               IN\n",
       "Name: State, dtype: object"
      ]
     },
     "execution_count": 207,
     "metadata": {},
     "output_type": "execute_result"
    }
   ],
   "source": [
    "states = customers['State'].drop_duplicates()\n",
    "states\n",
    "#15 pero hay un error"
   ]
  },
  {
   "cell_type": "code",
   "execution_count": 208,
   "metadata": {},
   "outputs": [
    {
     "data": {
      "text/plain": [
       "State\n",
       "AZ                 6\n",
       "CA               562\n",
       "CA                 5\n",
       "CO                 3\n",
       "Ca                 2\n",
       "FL                 3\n",
       "ID                 1\n",
       "IN                 1\n",
       "MA                 1\n",
       "NH                 1\n",
       "NM                 3\n",
       "NV                 8\n",
       "OR                 1\n",
       "TX                 2\n",
       "UT                 2\n",
       "WA                 1\n",
       "Name: CustomerID, dtype: int64"
      ]
     },
     "execution_count": 208,
     "metadata": {},
     "output_type": "execute_result"
    }
   ],
   "source": [
    "result_state = customers.groupby('State')['CustomerID'].count()\n",
    "result_state"
   ]
  },
  {
   "cell_type": "code",
   "execution_count": 209,
   "metadata": {},
   "outputs": [
    {
     "data": {
      "text/plain": [
       "LastName\n",
       "Abraham    2\n",
       "Abrams     1\n",
       "Brady      3\n",
       "Doggett    5\n",
       "Garcia     4\n",
       "Smith      8\n",
       "Name: CustomerID, dtype: int64"
      ]
     },
     "execution_count": 209,
     "metadata": {},
     "output_type": "execute_result"
    }
   ],
   "source": [
    "result_ln=customers.groupby('LastName')['CustomerID'].count().drop_duplicates()\n",
    "result_ln "
   ]
  },
  {
   "cell_type": "markdown",
   "metadata": {},
   "source": [
    "## Part 2"
   ]
  },
  {
   "cell_type": "code",
   "execution_count": 210,
   "metadata": {},
   "outputs": [
    {
     "data": {
      "text/plain": [
       "16672"
      ]
     },
     "execution_count": 210,
     "metadata": {},
     "output_type": "execute_result"
    }
   ],
   "source": [
    "orders_by_id = orders['OrderID'].drop_duplicates()\n",
    "orders_by_id.count()"
   ]
  },
  {
   "cell_type": "markdown",
   "metadata": {},
   "source": [
    "There is 16672 diferents orders"
   ]
  },
  {
   "cell_type": "code",
   "execution_count": 211,
   "metadata": {},
   "outputs": [
    {
     "data": {
      "text/plain": [
       "1.7570777351247602"
      ]
     },
     "execution_count": 211,
     "metadata": {},
     "output_type": "execute_result"
    }
   ],
   "source": [
    "result = orders.groupby('OrderID')['ProductName'].count()\n",
    "result.mean()"
   ]
  },
  {
   "cell_type": "markdown",
   "metadata": {},
   "source": [
    "The average number of items per order is 1.75 or 1.76"
   ]
  },
  {
   "cell_type": "code",
   "execution_count": 212,
   "metadata": {},
   "outputs": [
    {
     "data": {
      "text/plain": [
       "35"
      ]
     },
     "execution_count": 212,
     "metadata": {},
     "output_type": "execute_result"
    }
   ],
   "source": [
    "result.max()"
   ]
  },
  {
   "cell_type": "markdown",
   "metadata": {},
   "source": [
    "The highest number of items per order is 35"
   ]
  },
  {
   "cell_type": "code",
   "execution_count": 213,
   "metadata": {},
   "outputs": [
    {
     "data": {
      "text/plain": [
       "267"
      ]
     },
     "execution_count": 213,
     "metadata": {},
     "output_type": "execute_result"
    }
   ],
   "source": [
    "# Filter data between two dates\n",
    "orders['Date'] = pd.to_datetime(orders['Date'], format='%Y-%m-%d')\n",
    "filtered_orders = orders.loc[(orders['Date'] >= '2021-10-01')\n",
    "                     & (orders['Date'] < '2021-11-01')]\n",
    "filtered_orders['OrderID'].drop_duplicates().count()"
   ]
  },
  {
   "cell_type": "markdown",
   "metadata": {},
   "source": [
    "The number of orders placed in October 2021 was 267"
   ]
  },
  {
   "cell_type": "code",
   "execution_count": 214,
   "metadata": {},
   "outputs": [
    {
     "data": {
      "text/html": [
       "<div>\n",
       "<style scoped>\n",
       "    .dataframe tbody tr th:only-of-type {\n",
       "        vertical-align: middle;\n",
       "    }\n",
       "\n",
       "    .dataframe tbody tr th {\n",
       "        vertical-align: top;\n",
       "    }\n",
       "\n",
       "    .dataframe thead th {\n",
       "        text-align: right;\n",
       "    }\n",
       "</style>\n",
       "<table border=\"1\" class=\"dataframe\">\n",
       "  <thead>\n",
       "    <tr style=\"text-align: right;\">\n",
       "      <th></th>\n",
       "      <th>Month</th>\n",
       "    </tr>\n",
       "  </thead>\n",
       "  <tbody>\n",
       "    <tr>\n",
       "      <th>0</th>\n",
       "      <td>7.0</td>\n",
       "    </tr>\n",
       "    <tr>\n",
       "      <th>1</th>\n",
       "      <td>8.0</td>\n",
       "    </tr>\n",
       "    <tr>\n",
       "      <th>2</th>\n",
       "      <td>7.0</td>\n",
       "    </tr>\n",
       "    <tr>\n",
       "      <th>3</th>\n",
       "      <td>7.0</td>\n",
       "    </tr>\n",
       "    <tr>\n",
       "      <th>4</th>\n",
       "      <td>7.0</td>\n",
       "    </tr>\n",
       "    <tr>\n",
       "      <th>...</th>\n",
       "      <td>...</td>\n",
       "    </tr>\n",
       "    <tr>\n",
       "      <th>29289</th>\n",
       "      <td>2.0</td>\n",
       "    </tr>\n",
       "    <tr>\n",
       "      <th>29290</th>\n",
       "      <td>2.0</td>\n",
       "    </tr>\n",
       "    <tr>\n",
       "      <th>29291</th>\n",
       "      <td>2.0</td>\n",
       "    </tr>\n",
       "    <tr>\n",
       "      <th>29292</th>\n",
       "      <td>2.0</td>\n",
       "    </tr>\n",
       "    <tr>\n",
       "      <th>29293</th>\n",
       "      <td>2.0</td>\n",
       "    </tr>\n",
       "  </tbody>\n",
       "</table>\n",
       "<p>29294 rows × 1 columns</p>\n",
       "</div>"
      ],
      "text/plain": [
       "       Month\n",
       "0        7.0\n",
       "1        8.0\n",
       "2        7.0\n",
       "3        7.0\n",
       "4        7.0\n",
       "...      ...\n",
       "29289    2.0\n",
       "29290    2.0\n",
       "29291    2.0\n",
       "29292    2.0\n",
       "29293    2.0\n",
       "\n",
       "[29294 rows x 1 columns]"
      ]
     },
     "execution_count": 214,
     "metadata": {},
     "output_type": "execute_result"
    }
   ],
   "source": [
    "df=pd.DataFrame()\n",
    "df['Month'] = pd.DatetimeIndex(orders['Date']).month\n",
    "orders['Month']=df\n",
    "df"
   ]
  },
  {
   "cell_type": "code",
   "execution_count": 215,
   "metadata": {},
   "outputs": [
    {
     "data": {
      "text/html": [
       "<div>\n",
       "<style scoped>\n",
       "    .dataframe tbody tr th:only-of-type {\n",
       "        vertical-align: middle;\n",
       "    }\n",
       "\n",
       "    .dataframe tbody tr th {\n",
       "        vertical-align: top;\n",
       "    }\n",
       "\n",
       "    .dataframe thead th {\n",
       "        text-align: right;\n",
       "    }\n",
       "</style>\n",
       "<table border=\"1\" class=\"dataframe\">\n",
       "  <thead>\n",
       "    <tr style=\"text-align: right;\">\n",
       "      <th></th>\n",
       "      <th>CustomerID</th>\n",
       "      <th>OrderID</th>\n",
       "      <th>Date</th>\n",
       "      <th>OrderTotal</th>\n",
       "      <th>ProductName</th>\n",
       "      <th>Price</th>\n",
       "      <th>Month</th>\n",
       "    </tr>\n",
       "  </thead>\n",
       "  <tbody>\n",
       "    <tr>\n",
       "      <th>0</th>\n",
       "      <td>8091</td>\n",
       "      <td>7742581</td>\n",
       "      <td>2021-07-26 14:40:10.783</td>\n",
       "      <td>95.0</td>\n",
       "      <td>Z03</td>\n",
       "      <td>90.0</td>\n",
       "      <td>7.0</td>\n",
       "    </tr>\n",
       "    <tr>\n",
       "      <th>1</th>\n",
       "      <td>902139</td>\n",
       "      <td>7742778</td>\n",
       "      <td>2021-08-08 05:01:21.120</td>\n",
       "      <td>60.0</td>\n",
       "      <td>0844 A/C</td>\n",
       "      <td>60.0</td>\n",
       "      <td>8.0</td>\n",
       "    </tr>\n",
       "    <tr>\n",
       "      <th>2</th>\n",
       "      <td>2300266</td>\n",
       "      <td>7742593</td>\n",
       "      <td>2021-07-27 11:00:16.020</td>\n",
       "      <td>185.0</td>\n",
       "      <td>M07</td>\n",
       "      <td>90.0</td>\n",
       "      <td>7.0</td>\n",
       "    </tr>\n",
       "    <tr>\n",
       "      <th>3</th>\n",
       "      <td>2300266</td>\n",
       "      <td>7742593</td>\n",
       "      <td>2021-07-27 11:00:16.020</td>\n",
       "      <td>185.0</td>\n",
       "      <td>M09</td>\n",
       "      <td>90.0</td>\n",
       "      <td>7.0</td>\n",
       "    </tr>\n",
       "    <tr>\n",
       "      <th>4</th>\n",
       "      <td>5173013</td>\n",
       "      <td>7742609</td>\n",
       "      <td>2021-07-28 14:26:13.930</td>\n",
       "      <td>165.0</td>\n",
       "      <td>0324</td>\n",
       "      <td>160.0</td>\n",
       "      <td>7.0</td>\n",
       "    </tr>\n",
       "    <tr>\n",
       "      <th>...</th>\n",
       "      <td>...</td>\n",
       "      <td>...</td>\n",
       "      <td>...</td>\n",
       "      <td>...</td>\n",
       "      <td>...</td>\n",
       "      <td>...</td>\n",
       "      <td>...</td>\n",
       "    </tr>\n",
       "    <tr>\n",
       "      <th>29289</th>\n",
       "      <td>5415451</td>\n",
       "      <td>7791815</td>\n",
       "      <td>2022-02-07 14:37:30.567</td>\n",
       "      <td>0.0</td>\n",
       "      <td>Circle #041</td>\n",
       "      <td>0.0</td>\n",
       "      <td>2.0</td>\n",
       "    </tr>\n",
       "    <tr>\n",
       "      <th>29290</th>\n",
       "      <td>5415483</td>\n",
       "      <td>7791820</td>\n",
       "      <td>2022-02-07 15:55:55.260</td>\n",
       "      <td>132.0</td>\n",
       "      <td>HH33</td>\n",
       "      <td>125.0</td>\n",
       "      <td>2.0</td>\n",
       "    </tr>\n",
       "    <tr>\n",
       "      <th>29291</th>\n",
       "      <td>5415485</td>\n",
       "      <td>7791822</td>\n",
       "      <td>2022-02-07 16:23:05.940</td>\n",
       "      <td>132.0</td>\n",
       "      <td>3568</td>\n",
       "      <td>125.0</td>\n",
       "      <td>2.0</td>\n",
       "    </tr>\n",
       "    <tr>\n",
       "      <th>29292</th>\n",
       "      <td>4300695</td>\n",
       "      <td>7791824</td>\n",
       "      <td>2022-02-07 16:55:33.343</td>\n",
       "      <td>157.0</td>\n",
       "      <td>0414</td>\n",
       "      <td>150.0</td>\n",
       "      <td>2.0</td>\n",
       "    </tr>\n",
       "    <tr>\n",
       "      <th>29293</th>\n",
       "      <td>5415503</td>\n",
       "      <td>7791848</td>\n",
       "      <td>2022-02-09 10:36:56.553</td>\n",
       "      <td>132.0</td>\n",
       "      <td>PP22</td>\n",
       "      <td>125.0</td>\n",
       "      <td>2.0</td>\n",
       "    </tr>\n",
       "  </tbody>\n",
       "</table>\n",
       "<p>29294 rows × 7 columns</p>\n",
       "</div>"
      ],
      "text/plain": [
       "       CustomerID  OrderID                    Date  OrderTotal  ProductName  \\\n",
       "0            8091  7742581 2021-07-26 14:40:10.783        95.0          Z03   \n",
       "1          902139  7742778 2021-08-08 05:01:21.120        60.0     0844 A/C   \n",
       "2         2300266  7742593 2021-07-27 11:00:16.020       185.0          M07   \n",
       "3         2300266  7742593 2021-07-27 11:00:16.020       185.0          M09   \n",
       "4         5173013  7742609 2021-07-28 14:26:13.930       165.0         0324   \n",
       "...           ...      ...                     ...         ...          ...   \n",
       "29289     5415451  7791815 2022-02-07 14:37:30.567         0.0  Circle #041   \n",
       "29290     5415483  7791820 2022-02-07 15:55:55.260       132.0         HH33   \n",
       "29291     5415485  7791822 2022-02-07 16:23:05.940       132.0         3568   \n",
       "29292     4300695  7791824 2022-02-07 16:55:33.343       157.0         0414   \n",
       "29293     5415503  7791848 2022-02-09 10:36:56.553       132.0         PP22   \n",
       "\n",
       "       Price  Month  \n",
       "0       90.0    7.0  \n",
       "1       60.0    8.0  \n",
       "2       90.0    7.0  \n",
       "3       90.0    7.0  \n",
       "4      160.0    7.0  \n",
       "...      ...    ...  \n",
       "29289    0.0    2.0  \n",
       "29290  125.0    2.0  \n",
       "29291  125.0    2.0  \n",
       "29292  150.0    2.0  \n",
       "29293  125.0    2.0  \n",
       "\n",
       "[29294 rows x 7 columns]"
      ]
     },
     "execution_count": 215,
     "metadata": {},
     "output_type": "execute_result"
    }
   ],
   "source": [
    "orders"
   ]
  },
  {
   "cell_type": "code",
   "execution_count": 216,
   "metadata": {},
   "outputs": [
    {
     "data": {
      "text/html": [
       "<div>\n",
       "<style scoped>\n",
       "    .dataframe tbody tr th:only-of-type {\n",
       "        vertical-align: middle;\n",
       "    }\n",
       "\n",
       "    .dataframe tbody tr th {\n",
       "        vertical-align: top;\n",
       "    }\n",
       "\n",
       "    .dataframe thead th {\n",
       "        text-align: right;\n",
       "    }\n",
       "</style>\n",
       "<table border=\"1\" class=\"dataframe\">\n",
       "  <thead>\n",
       "    <tr style=\"text-align: right;\">\n",
       "      <th></th>\n",
       "      <th>CustomerID</th>\n",
       "      <th>OrderID</th>\n",
       "      <th>Date</th>\n",
       "      <th>OrderTotal</th>\n",
       "      <th>ProductName</th>\n",
       "      <th>Price</th>\n",
       "      <th>Month</th>\n",
       "    </tr>\n",
       "  </thead>\n",
       "  <tbody>\n",
       "    <tr>\n",
       "      <th>0</th>\n",
       "      <td>8091</td>\n",
       "      <td>7742581</td>\n",
       "      <td>2021-07-26 14:40:10.783</td>\n",
       "      <td>95.0</td>\n",
       "      <td>Z03</td>\n",
       "      <td>90.0</td>\n",
       "      <td>7.0</td>\n",
       "    </tr>\n",
       "    <tr>\n",
       "      <th>1</th>\n",
       "      <td>902139</td>\n",
       "      <td>7742778</td>\n",
       "      <td>2021-08-08 05:01:21.120</td>\n",
       "      <td>60.0</td>\n",
       "      <td>0844 A/C</td>\n",
       "      <td>60.0</td>\n",
       "      <td>8.0</td>\n",
       "    </tr>\n",
       "    <tr>\n",
       "      <th>2</th>\n",
       "      <td>2300266</td>\n",
       "      <td>7742593</td>\n",
       "      <td>2021-07-27 11:00:16.020</td>\n",
       "      <td>185.0</td>\n",
       "      <td>M07</td>\n",
       "      <td>90.0</td>\n",
       "      <td>7.0</td>\n",
       "    </tr>\n",
       "    <tr>\n",
       "      <th>3</th>\n",
       "      <td>2300266</td>\n",
       "      <td>7742593</td>\n",
       "      <td>2021-07-27 11:00:16.020</td>\n",
       "      <td>185.0</td>\n",
       "      <td>M09</td>\n",
       "      <td>90.0</td>\n",
       "      <td>7.0</td>\n",
       "    </tr>\n",
       "    <tr>\n",
       "      <th>4</th>\n",
       "      <td>5173013</td>\n",
       "      <td>7742609</td>\n",
       "      <td>2021-07-28 14:26:13.930</td>\n",
       "      <td>165.0</td>\n",
       "      <td>0324</td>\n",
       "      <td>160.0</td>\n",
       "      <td>7.0</td>\n",
       "    </tr>\n",
       "    <tr>\n",
       "      <th>...</th>\n",
       "      <td>...</td>\n",
       "      <td>...</td>\n",
       "      <td>...</td>\n",
       "      <td>...</td>\n",
       "      <td>...</td>\n",
       "      <td>...</td>\n",
       "      <td>...</td>\n",
       "    </tr>\n",
       "    <tr>\n",
       "      <th>29289</th>\n",
       "      <td>5415451</td>\n",
       "      <td>7791815</td>\n",
       "      <td>2022-02-07 14:37:30.567</td>\n",
       "      <td>0.0</td>\n",
       "      <td>Circle #041</td>\n",
       "      <td>0.0</td>\n",
       "      <td>2.0</td>\n",
       "    </tr>\n",
       "    <tr>\n",
       "      <th>29290</th>\n",
       "      <td>5415483</td>\n",
       "      <td>7791820</td>\n",
       "      <td>2022-02-07 15:55:55.260</td>\n",
       "      <td>132.0</td>\n",
       "      <td>HH33</td>\n",
       "      <td>125.0</td>\n",
       "      <td>2.0</td>\n",
       "    </tr>\n",
       "    <tr>\n",
       "      <th>29291</th>\n",
       "      <td>5415485</td>\n",
       "      <td>7791822</td>\n",
       "      <td>2022-02-07 16:23:05.940</td>\n",
       "      <td>132.0</td>\n",
       "      <td>3568</td>\n",
       "      <td>125.0</td>\n",
       "      <td>2.0</td>\n",
       "    </tr>\n",
       "    <tr>\n",
       "      <th>29292</th>\n",
       "      <td>4300695</td>\n",
       "      <td>7791824</td>\n",
       "      <td>2022-02-07 16:55:33.343</td>\n",
       "      <td>157.0</td>\n",
       "      <td>0414</td>\n",
       "      <td>150.0</td>\n",
       "      <td>2.0</td>\n",
       "    </tr>\n",
       "    <tr>\n",
       "      <th>29293</th>\n",
       "      <td>5415503</td>\n",
       "      <td>7791848</td>\n",
       "      <td>2022-02-09 10:36:56.553</td>\n",
       "      <td>132.0</td>\n",
       "      <td>PP22</td>\n",
       "      <td>125.0</td>\n",
       "      <td>2.0</td>\n",
       "    </tr>\n",
       "  </tbody>\n",
       "</table>\n",
       "<p>27152 rows × 7 columns</p>\n",
       "</div>"
      ],
      "text/plain": [
       "       CustomerID  OrderID                    Date  OrderTotal  ProductName  \\\n",
       "0            8091  7742581 2021-07-26 14:40:10.783        95.0          Z03   \n",
       "1          902139  7742778 2021-08-08 05:01:21.120        60.0     0844 A/C   \n",
       "2         2300266  7742593 2021-07-27 11:00:16.020       185.0          M07   \n",
       "3         2300266  7742593 2021-07-27 11:00:16.020       185.0          M09   \n",
       "4         5173013  7742609 2021-07-28 14:26:13.930       165.0         0324   \n",
       "...           ...      ...                     ...         ...          ...   \n",
       "29289     5415451  7791815 2022-02-07 14:37:30.567         0.0  Circle #041   \n",
       "29290     5415483  7791820 2022-02-07 15:55:55.260       132.0         HH33   \n",
       "29291     5415485  7791822 2022-02-07 16:23:05.940       132.0         3568   \n",
       "29292     4300695  7791824 2022-02-07 16:55:33.343       157.0         0414   \n",
       "29293     5415503  7791848 2022-02-09 10:36:56.553       132.0         PP22   \n",
       "\n",
       "       Price  Month  \n",
       "0       90.0    7.0  \n",
       "1       60.0    8.0  \n",
       "2       90.0    7.0  \n",
       "3       90.0    7.0  \n",
       "4      160.0    7.0  \n",
       "...      ...    ...  \n",
       "29289    0.0    2.0  \n",
       "29290  125.0    2.0  \n",
       "29291  125.0    2.0  \n",
       "29292  150.0    2.0  \n",
       "29293  125.0    2.0  \n",
       "\n",
       "[27152 rows x 7 columns]"
      ]
     },
     "execution_count": 216,
     "metadata": {},
     "output_type": "execute_result"
    }
   ],
   "source": [
    "orders_not_null = orders.dropna()\n",
    "orders_not_null"
   ]
  },
  {
   "cell_type": "code",
   "execution_count": 217,
   "metadata": {},
   "outputs": [
    {
     "name": "stderr",
     "output_type": "stream",
     "text": [
      "C:\\Users\\Leo\\AppData\\Local\\Temp\\ipykernel_4668\\1654385141.py:1: FutureWarning: Indexing with multiple keys (implicitly converted to a tuple of keys) will be deprecated, use a list instead.\n",
      "  best_month=orders_not_null.groupby('Month')['Price','Month'].head()\n"
     ]
    },
    {
     "data": {
      "text/html": [
       "<div>\n",
       "<style scoped>\n",
       "    .dataframe tbody tr th:only-of-type {\n",
       "        vertical-align: middle;\n",
       "    }\n",
       "\n",
       "    .dataframe tbody tr th {\n",
       "        vertical-align: top;\n",
       "    }\n",
       "\n",
       "    .dataframe thead th {\n",
       "        text-align: right;\n",
       "    }\n",
       "</style>\n",
       "<table border=\"1\" class=\"dataframe\">\n",
       "  <thead>\n",
       "    <tr style=\"text-align: right;\">\n",
       "      <th></th>\n",
       "      <th>Price</th>\n",
       "      <th>Month</th>\n",
       "    </tr>\n",
       "  </thead>\n",
       "  <tbody>\n",
       "    <tr>\n",
       "      <th>0</th>\n",
       "      <td>90.0</td>\n",
       "      <td>7.0</td>\n",
       "    </tr>\n",
       "    <tr>\n",
       "      <th>1</th>\n",
       "      <td>60.0</td>\n",
       "      <td>8.0</td>\n",
       "    </tr>\n",
       "    <tr>\n",
       "      <th>2</th>\n",
       "      <td>90.0</td>\n",
       "      <td>7.0</td>\n",
       "    </tr>\n",
       "    <tr>\n",
       "      <th>3</th>\n",
       "      <td>90.0</td>\n",
       "      <td>7.0</td>\n",
       "    </tr>\n",
       "    <tr>\n",
       "      <th>4</th>\n",
       "      <td>160.0</td>\n",
       "      <td>7.0</td>\n",
       "    </tr>\n",
       "  </tbody>\n",
       "</table>\n",
       "</div>"
      ],
      "text/plain": [
       "   Price  Month\n",
       "0   90.0    7.0\n",
       "1   60.0    8.0\n",
       "2   90.0    7.0\n",
       "3   90.0    7.0\n",
       "4  160.0    7.0"
      ]
     },
     "execution_count": 217,
     "metadata": {},
     "output_type": "execute_result"
    }
   ],
   "source": [
    "best_month=orders_not_null.groupby('Month')['Price','Month'].head()\n",
    "best_month.head()"
   ]
  },
  {
   "cell_type": "code",
   "execution_count": 218,
   "metadata": {},
   "outputs": [
    {
     "name": "stdout",
     "output_type": "stream",
     "text": [
      "600.0\n"
     ]
    },
    {
     "data": {
      "text/plain": [
       "Month\n",
       "1.0     410.0\n",
       "2.0     560.0\n",
       "3.0     340.0\n",
       "4.0     465.0\n",
       "5.0     470.0\n",
       "6.0     600.0\n",
       "7.0     555.0\n",
       "8.0     240.0\n",
       "9.0     585.0\n",
       "10.0    290.0\n",
       "11.0    590.0\n",
       "12.0    575.0\n",
       "Name: Price, dtype: float64"
      ]
     },
     "execution_count": 218,
     "metadata": {},
     "output_type": "execute_result"
    }
   ],
   "source": [
    "print(best_month.groupby('Month')['Price'].sum().max())\n",
    "best_month.groupby('Month')['Price'].sum()"
   ]
  },
  {
   "cell_type": "markdown",
   "metadata": {},
   "source": [
    "The month with the highest profit was july"
   ]
  }
 ],
 "metadata": {
  "kernelspec": {
   "display_name": "Python 3.10.4 64-bit",
   "language": "python",
   "name": "python3"
  },
  "language_info": {
   "codemirror_mode": {
    "name": "ipython",
    "version": 3
   },
   "file_extension": ".py",
   "mimetype": "text/x-python",
   "name": "python",
   "nbconvert_exporter": "python",
   "pygments_lexer": "ipython3",
   "version": "3.10.4"
  },
  "orig_nbformat": 4,
  "vscode": {
   "interpreter": {
    "hash": "369f2c481f4da34e4445cda3fffd2e751bd1c4d706f27375911949ba6bb62e1c"
   }
  }
 },
 "nbformat": 4,
 "nbformat_minor": 2
}
